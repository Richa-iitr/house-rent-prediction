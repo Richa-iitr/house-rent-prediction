{
 "cells": [
  {
   "cell_type": "code",
   "execution_count": 3,
   "id": "6a1a86d4",
   "metadata": {},
   "outputs": [],
   "source": [
    "from opencage.geocoder import OpenCageGeocode"
   ]
  },
  {
   "cell_type": "code",
   "execution_count": 7,
   "id": "3607fde1",
   "metadata": {},
   "outputs": [],
   "source": [
    "def get_lat_lng(place, geocoder):\n",
    "    query = place \n",
    "    results = geocoder.geocode(query)\n",
    "    lat = results[0]['annotations']['DMS']['lat']\n",
    "    lng = results[0]['annotations']['DMS']['lng']\n",
    "    return [lat, lng]"
   ]
  },
  {
   "cell_type": "code",
   "execution_count": 8,
   "id": "e02d0740",
   "metadata": {},
   "outputs": [],
   "source": [
    "key1 = '7712da193a1a4b57a398a6d398dffec5'\n",
    "geocoder1 = OpenCageGeocode(key1)"
   ]
  },
  {
   "cell_type": "code",
   "execution_count": 9,
   "id": "6b8ef4c7",
   "metadata": {},
   "outputs": [
    {
     "data": {
      "text/plain": [
       "[\"18° 38' 35.76840'' N\", \"73° 44' 42.20052'' E\"]"
      ]
     },
     "execution_count": 9,
     "metadata": {},
     "output_type": "execute_result"
    }
   ],
   "source": [
    "get_lat_lng(\"Ravet, Pune\", geocoder1)"
   ]
  },
  {
   "cell_type": "code",
   "execution_count": null,
   "id": "9565d78c",
   "metadata": {},
   "outputs": [],
   "source": []
  }
 ],
 "metadata": {
  "kernelspec": {
   "display_name": "Python 3 (ipykernel)",
   "language": "python",
   "name": "python3"
  },
  "language_info": {
   "codemirror_mode": {
    "name": "ipython",
    "version": 3
   },
   "file_extension": ".py",
   "mimetype": "text/x-python",
   "name": "python",
   "nbconvert_exporter": "python",
   "pygments_lexer": "ipython3",
   "version": "3.10.5"
  }
 },
 "nbformat": 4,
 "nbformat_minor": 5
}
